{
 "cells": [
  {
   "cell_type": "markdown",
   "source": [
    "# 1. What is Artificial Intelligence?"
   ],
   "metadata": {
    "collapsed": false
   }
  },
  {
   "cell_type": "markdown",
   "source": [
    "![What is AI?](resources/images/what_is_ai.png)"
   ],
   "metadata": {
    "collapsed": false
   }
  },
  {
   "cell_type": "markdown",
   "source": [
    "# 2. AI Models"
   ],
   "metadata": {
    "collapsed": false
   }
  },
  {
   "cell_type": "markdown",
   "source": [
    "- Machine learning\n",
    "- Deep learning"
   ],
   "metadata": {
    "collapsed": false
   }
  },
  {
   "cell_type": "markdown",
   "source": [
    "# 3. Machine learning"
   ],
   "metadata": {
    "collapsed": false
   }
  },
  {
   "cell_type": "markdown",
   "source": [
    "Types:\n",
    "- Supervised learning\n",
    "- Unsupervised learning\n",
    "- Semi-supervised learning\n",
    "- Reinforcement learning\n",
    "\n",
    "References:\n",
    "- [Types of mahince learning](https://www.javatpoint.com/types-of-machine-learning)"
   ],
   "metadata": {
    "collapsed": false
   }
  },
  {
   "cell_type": "markdown",
   "source": [
    "## 3.1 Supervised Learning"
   ],
   "metadata": {
    "collapsed": false
   }
  },
  {
   "cell_type": "markdown",
   "source": [
    "Trained with labelled datasets:\n",
    "- input: features, labels\n",
    "- output: trained models, accuracy\n",
    "\n",
    "![Dataset splitting](resources/images/supervised_learning.png)"
   ],
   "metadata": {
    "collapsed": false
   }
  },
  {
   "cell_type": "markdown",
   "source": [
    "Types:\n",
    "- Classifications\n",
    "    - fraud detection\n",
    "    - spam detection\n",
    "    - speech recognition\n",
    "- Predictive modelling (regression analysis)\n",
    "    - sales amount prediction\n",
    "    - stock market indices prediction"
   ],
   "metadata": {
    "collapsed": false
   }
  },
  {
   "cell_type": "markdown",
   "source": [
    "**Examples**\n",
    "Classifications\n",
    "![Classify galaxies](resources/images/classification.png)\n",
    "\n",
    "Predictive modelling\n",
    "![Predict stock market](resources/images/predictive_modelling.png)"
   ],
   "metadata": {
    "collapsed": false
   }
  },
  {
   "cell_type": "markdown",
   "source": [
    "## 3.2 Unsupervised Learning"
   ],
   "metadata": {
    "collapsed": false
   }
  },
  {
   "cell_type": "markdown",
   "source": [
    "Trained with unlabelled datasets:\n",
    "- input: features\n",
    "- output: models, performance matrix"
   ],
   "metadata": {
    "collapsed": false
   }
  },
  {
   "cell_type": "markdown",
   "source": [
    "Types:\n",
    "- Clustering\n",
    "- Anomaly detection\n",
    "- Association rules"
   ],
   "metadata": {
    "collapsed": false
   }
  },
  {
   "cell_type": "markdown",
   "source": [
    "**Examples**\n",
    "Clustering\n",
    "![Clustering](resources/images/clustering.png)\n",
    "\n",
    "Anomaly detection\n",
    "![Anomaly detection](resources/images/anomaly_detection.png)\n",
    "\n",
    "Association rules\n",
    "![Association rules](resources/images/association_rules.png)"
   ],
   "metadata": {
    "collapsed": false
   }
  },
  {
   "cell_type": "markdown",
   "source": [
    "## 3.3 Semi-supervised Learning"
   ],
   "metadata": {
    "collapsed": false
   }
  },
  {
   "cell_type": "markdown",
   "source": [
    "Trained with the combinations of labelled & unlabelled datasets."
   ],
   "metadata": {
    "collapsed": false
   }
  },
  {
   "cell_type": "markdown",
   "source": [
    "## 3.4 Reinforcement Learning"
   ],
   "metadata": {
    "collapsed": false
   }
  },
  {
   "cell_type": "markdown",
   "source": [
    "Trained by learning from experiences (no labelled datasets)."
   ],
   "metadata": {
    "collapsed": false
   }
  },
  {
   "cell_type": "markdown",
   "source": [
    "# 4. Machine Learning Models Training Process"
   ],
   "metadata": {
    "collapsed": false
   }
  },
  {
   "cell_type": "markdown",
   "source": [
    "Steps:\n",
    "1. Data collection\n",
    "2. Data pre-processing\n",
    "3. Models training\n",
    "4. Performance evaluation\n",
    "5. Applications of trained models"
   ],
   "metadata": {
    "collapsed": false
   }
  },
  {
   "cell_type": "markdown",
   "source": [
    "## 4.1 Data Collection"
   ],
   "metadata": {
    "collapsed": false
   }
  },
  {
   "cell_type": "markdown",
   "source": [
    "1. Scrap data with scraper\n",
    "\n",
    "2. Download available datasets\n",
    "    - [UCI Machine Learning Repository](https://archive.ics.uci.edu/ml/datasets.php)\n",
    "    - [Google Dataset Search](https://toolbox.google.com/datasetsearch)\n",
    "    - [Kaggle](https://www.kaggle.com/)\n",
    "    - [Visual Data](https://visualdata.io/discovery)\n",
    "    - [CMU Libraries](https://guides.library.cmu.edu/machine-learning/datasets)"
   ],
   "metadata": {
    "collapsed": false
   }
  },
  {
   "cell_type": "markdown",
   "source": [
    "## 4.2 Data Pre-processing"
   ],
   "metadata": {
    "collapsed": false
   }
  },
  {
   "cell_type": "markdown",
   "source": [
    "How to understand the data better? -> Perform exploratory analysis on datasets. (refer sample codes)"
   ],
   "metadata": {
    "collapsed": false
   }
  },
  {
   "cell_type": "markdown",
   "source": [
    "Understand the Data\n",
    "![Data](resources/images/data.png)\n",
    "\n",
    "Data Attributes\n",
    "- Nominal: ID numbers, eye color, zip codes (discrete)\n",
    "- Ordinal (with order): rankings (e.g., taste of potato chips on a scale from 1 10), grades, height in {tall, medium, short}\n",
    "- Interval (with range: minimum to maximum): calendar dates, temperatures in Celsius or Fahrenheit\n",
    "- Ratio (real number, with decimal places/fractional value): temperature in Kelvin, length, time\n",
    "\n",
    "Data Hierarchy\n",
    "![Data hierarchy](resources/images/data_hierarchy.png)"
   ],
   "metadata": {
    "collapsed": false
   }
  },
  {
   "cell_type": "markdown",
   "source": [
    "Data Pre-processing Strategies\n",
    "![Data pre-processing](resources/images/data_preprocessing.png)"
   ],
   "metadata": {
    "collapsed": false
   }
  },
  {
   "cell_type": "markdown",
   "source": [
    "## 4.3 Models Training & Performance Evaluation"
   ],
   "metadata": {
    "collapsed": false
   }
  },
  {
   "cell_type": "markdown",
   "source": [
    "![Models training process](resources/images/models_training.png)"
   ],
   "metadata": {
    "collapsed": false
   }
  },
  {
   "cell_type": "markdown",
   "source": [
    "**Problems**\n",
    "![Models fitting](resources/images/models_fitting.png)"
   ],
   "metadata": {
    "collapsed": false
   }
  },
  {
   "cell_type": "markdown",
   "source": [
    "### 4.3.1 Classification Models"
   ],
   "metadata": {
    "collapsed": false
   }
  },
  {
   "cell_type": "markdown",
   "source": [
    "**Performance Evaluation Matrix**\n",
    "1. Confusion Matrix\n",
    "    ![Confusion matrix](resources/images/confusion_matrix.png)\n",
    "2. F1-score/F-measure\n",
    "3. Accuracy\n",
    "4. Misclassification rate\n",
    "5. Precision\n",
    "6. Recall\n",
    "6. Prevalence\n",
    "7. Cost Matrix\n",
    "    ![Cost matrix](resources/images/cost_matrix.png)\n",
    "8. Receiver Operating Characteristics (ROC)\n",
    "9. Area under the ROC curve (AUC)\n",
    "\n",
    "**More Reliable Performance Evaluation Model**\n",
    "Cross-validation matrix\n",
    "   - Holdout\n",
    "   - Random sub-sampling\n",
    "   - k-fold\n",
    "   - leave-one-out\n",
    "\n",
    "**Summary**\n",
    "![Summary](resources/images/classification_evaluation_summary.png)"
   ],
   "metadata": {
    "collapsed": false
   }
  },
  {
   "cell_type": "markdown",
   "source": [
    "### 4.3.2 Regression Models"
   ],
   "metadata": {
    "collapsed": false
   }
  },
  {
   "cell_type": "markdown",
   "source": [
    "**Performance Evaluation Matrix**\n",
    "- Sum of Squares of Error (SSE)\n",
    "- Standard Error of Estimate\n",
    "- Sum of Squares Regression (SSR)\n",
    "- Coefficient of Determination (R)\n",
    "- Square of Correlation Coefficient (R Square)"
   ],
   "metadata": {
    "collapsed": false
   }
  },
  {
   "cell_type": "markdown",
   "source": [
    "# 5. IDE & Tools"
   ],
   "metadata": {
    "collapsed": false
   }
  },
  {
   "cell_type": "markdown",
   "source": [
    "## 5.1 IDE"
   ],
   "metadata": {
    "collapsed": false
   }
  },
  {
   "cell_type": "markdown",
   "source": [
    "1. PyCharm\n",
    "2. Visual Studio Code\n",
    "3. Anaconda\n",
    "4. Spyder\n",
    "5. Atom\n",
    "6. Sublime Text"
   ],
   "metadata": {
    "collapsed": false
   }
  },
  {
   "cell_type": "markdown",
   "source": [
    "## 5.2 Tools"
   ],
   "metadata": {
    "collapsed": false
   }
  },
  {
   "cell_type": "markdown",
   "source": [
    "- Matplotlib (visualization)\n",
    "- Pandas (manage dataframe)\n",
    "- scikit-learn (various ML models)"
   ],
   "metadata": {
    "collapsed": false
   }
  }
 ],
 "metadata": {
  "kernelspec": {
   "display_name": "Python 3",
   "language": "python",
   "name": "python3"
  },
  "language_info": {
   "codemirror_mode": {
    "name": "ipython",
    "version": 2
   },
   "file_extension": ".py",
   "mimetype": "text/x-python",
   "name": "python",
   "nbconvert_exporter": "python",
   "pygments_lexer": "ipython2",
   "version": "2.7.6"
  }
 },
 "nbformat": 4,
 "nbformat_minor": 0
}
